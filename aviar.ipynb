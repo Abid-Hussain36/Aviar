{
  "cells": [
    {
      "cell_type": "markdown",
      "metadata": {
        "id": "view-in-github",
        "colab_type": "text"
      },
      "source": [
        "<a href=\"https://colab.research.google.com/github/Abid-Hussain36/Aviar/blob/main/aviar.ipynb\" target=\"_parent\"><img src=\"https://colab.research.google.com/assets/colab-badge.svg\" alt=\"Open In Colab\"/></a>"
      ]
    },
    {
      "cell_type": "markdown",
      "metadata": {
        "id": "QVO07Roupo5I"
      },
      "source": [
        "## Importing Libraries"
      ]
    },
    {
      "cell_type": "code",
      "execution_count": null,
      "metadata": {
        "id": "BiI-JIOYpmUo"
      },
      "outputs": [],
      "source": [
        "%pip install -q -U keras-tuner"
      ]
    },
    {
      "cell_type": "code",
      "execution_count": null,
      "metadata": {
        "id": "q2yxDgIL86ML"
      },
      "outputs": [],
      "source": [
        "import numpy as np\n",
        "import pandas as pd\n",
        "import tensorflow as tf\n",
        "import keras_tuner as kt"
      ]
    },
    {
      "cell_type": "markdown",
      "metadata": {
        "id": "-r4zYzVbi4cd"
      },
      "source": [
        "# Loading the Data"
      ]
    },
    {
      "cell_type": "markdown",
      "metadata": {
        "id": "m6HUY2XAmI0P"
      },
      "source": [
        "## Fetching the Data from Kaggle"
      ]
    },
    {
      "cell_type": "code",
      "execution_count": null,
      "metadata": {
        "colab": {
          "base_uri": "https://localhost:8080/"
        },
        "id": "RPsfY1kpgGne",
        "outputId": "9d60ac0a-a33f-496b-e026-9dfcbb2ba818"
      },
      "outputs": [
        {
          "name": "stdout",
          "output_type": "stream",
          "text": [
            "Requirement already satisfied: kaggle in /usr/local/lib/python3.10/dist-packages (1.6.17)\n",
            "Requirement already satisfied: six>=1.10 in /usr/local/lib/python3.10/dist-packages (from kaggle) (1.16.0)\n",
            "Requirement already satisfied: certifi>=2023.7.22 in /usr/local/lib/python3.10/dist-packages (from kaggle) (2024.7.4)\n",
            "Requirement already satisfied: python-dateutil in /usr/local/lib/python3.10/dist-packages (from kaggle) (2.8.2)\n",
            "Requirement already satisfied: requests in /usr/local/lib/python3.10/dist-packages (from kaggle) (2.32.3)\n",
            "Requirement already satisfied: tqdm in /usr/local/lib/python3.10/dist-packages (from kaggle) (4.66.5)\n",
            "Requirement already satisfied: python-slugify in /usr/local/lib/python3.10/dist-packages (from kaggle) (8.0.4)\n",
            "Requirement already satisfied: urllib3 in /usr/local/lib/python3.10/dist-packages (from kaggle) (2.0.7)\n",
            "Requirement already satisfied: bleach in /usr/local/lib/python3.10/dist-packages (from kaggle) (6.1.0)\n",
            "Requirement already satisfied: webencodings in /usr/local/lib/python3.10/dist-packages (from bleach->kaggle) (0.5.1)\n",
            "Requirement already satisfied: text-unidecode>=1.3 in /usr/local/lib/python3.10/dist-packages (from python-slugify->kaggle) (1.3)\n",
            "Requirement already satisfied: charset-normalizer<4,>=2 in /usr/local/lib/python3.10/dist-packages (from requests->kaggle) (3.3.2)\n",
            "Requirement already satisfied: idna<4,>=2.5 in /usr/local/lib/python3.10/dist-packages (from requests->kaggle) (3.7)\n"
          ]
        }
      ],
      "source": [
        "! pip install kaggle"
      ]
    },
    {
      "cell_type": "code",
      "execution_count": null,
      "metadata": {
        "colab": {
          "base_uri": "https://localhost:8080/"
        },
        "id": "iYpNZWWQgHg1",
        "outputId": "93a2ba6d-77a8-45f8-c90b-b4523e73132b"
      },
      "outputs": [
        {
          "name": "stdout",
          "output_type": "stream",
          "text": [
            "Drive already mounted at /content/drive; to attempt to forcibly remount, call drive.mount(\"/content/drive\", force_remount=True).\n"
          ]
        }
      ],
      "source": [
        "from google.colab import drive\n",
        "\n",
        "drive.mount('/content/drive')"
      ]
    },
    {
      "cell_type": "code",
      "execution_count": null,
      "metadata": {
        "colab": {
          "base_uri": "https://localhost:8080/"
        },
        "id": "RpuJehJlgI-1",
        "outputId": "2c3358db-a0ad-4185-88c1-a89c2404499b"
      },
      "outputs": [
        {
          "name": "stdout",
          "output_type": "stream",
          "text": [
            "mkdir: cannot create directory ‘/root/.kaggle’: File exists\n"
          ]
        }
      ],
      "source": [
        "! mkdir ~/.kaggle"
      ]
    },
    {
      "cell_type": "code",
      "execution_count": null,
      "metadata": {
        "id": "cfBMgZ_jgKSH"
      },
      "outputs": [],
      "source": [
        "! cp /content/drive/MyDrive/MLFiles/kaggle.json ~/.kaggle/kaggle.json"
      ]
    },
    {
      "cell_type": "code",
      "execution_count": null,
      "metadata": {
        "colab": {
          "base_uri": "https://localhost:8080/"
        },
        "id": "1SUUpxyvgLg1",
        "outputId": "8cfee7d3-2211-4ad8-c7a0-b951619c56c1"
      },
      "outputs": [
        {
          "name": "stdout",
          "output_type": "stream",
          "text": [
            "Dataset URL: https://www.kaggle.com/datasets/gpiosenka/100-bird-species\n",
            "License(s): CC0-1.0\n",
            "100-bird-species.zip: Skipping, found more recently modified local copy (use --force to force download)\n"
          ]
        }
      ],
      "source": [
        "! kaggle datasets download -d gpiosenka/100-bird-species"
      ]
    },
    {
      "cell_type": "code",
      "execution_count": null,
      "metadata": {
        "colab": {
          "background_save": true,
          "base_uri": "https://localhost:8080/"
        },
        "id": "zuZtnfbygVLW",
        "outputId": "2bfb169c-5c83-491f-f5b8-6350c781986f"
      },
      "outputs": [
        {
          "name": "stdout",
          "output_type": "stream",
          "text": [
            "Archive:  100-bird-species.zip\n",
            "replace EfficientNetB0-525-(224 X 224)- 98.97.h5? [y]es, [n]o, [A]ll, [N]one, [r]ename: "
          ]
        }
      ],
      "source": [
        "! unzip 100-bird-species.zip"
      ]
    },
    {
      "cell_type": "markdown",
      "metadata": {
        "id": "vTTzXxYJGeiQ"
      },
      "source": [
        "# Preprocessing and Augmenting the Data"
      ]
    },
    {
      "cell_type": "code",
      "execution_count": null,
      "metadata": {
        "id": "AbYo1ELaL4so"
      },
      "outputs": [],
      "source": [
        "# Setting up an ImageGenerator for Data Augmentation\n",
        "train_augs = tf.keras.preprocessing.image.ImageDataGenerator(\n",
        "    rescale=(1./127.5 - 1), # Scales the pixel ranges to between -1 and 1\n",
        "    rotation_range=40, # Randomly rotatates images up to 40 degrees,\n",
        "    width_shift_range=0.2, # Randomly shifts images horizontally up to 20% of the image width\n",
        "    height_shift_range=0.2, # Randomly shifts images vertically up to 20% of the image height\n",
        "    shear_range=0.2, # Randomly diagonally skews the images\n",
        "    zoom_range=0.2, # Randomly zooms into or out of the images\n",
        "    horizontal_flip=True, # Randomly horizontally flips the images\n",
        "    fill_mode=\"nearest\"\n",
        ")\n",
        "\n",
        "# Pulls images from the train folder and randomly applies each of the transformations\n",
        "train_generator = train_augs.flow_from_directory(\n",
        "    \"/content/train\", # The directory the data is pulled from\n",
        "    target_size=(224, 224), # Size of the images we want to pull\n",
        "    batch_size=32, # Images grouped into batches of 32 each\n",
        "    class_mode=\"categorical\",\n",
        "    shuffle=True,\n",
        "    seed=42\n",
        ")\n",
        "\n",
        "valid_augs = tf.keras.preprocessing.image.ImageDataGenerator(\n",
        "    rescale=(1./127.5 - 1), # Scales the pixel ranges to between -1 and 1\n",
        ")\n",
        "\n",
        "valid_generator = valid_augs.flow_from_directory(\n",
        "    \"/content/valid\", # The directory the data is pulled from\n",
        "    target_size=(224, 224), # Size of the images we want to pull\n",
        "    class_mode=\"categorical\"\n",
        ")\n",
        "\n",
        "test_augs = tf.keras.preprocessing.image.ImageDataGenerator(\n",
        "    rescale=(1./127.5 - 1), # Scales the pixel ranges to between -1 and 1\n",
        ")\n",
        "\n",
        "test_generator = test_augs.flow_from_directory(\n",
        "    \"/content/test\", # The directory the data is pulled from\n",
        "    target_size=(224, 224), # Size of the images we want to pull\n",
        "    class_mode=\"categorical\"\n",
        ")"
      ]
    },
    {
      "cell_type": "code",
      "execution_count": null,
      "metadata": {
        "colab": {
          "base_uri": "https://localhost:8080/"
        },
        "id": "Vg6nu9xUTCxG",
        "outputId": "21d963a8-c108-4927-da11-ae7d6f333a9f"
      },
      "outputs": [
        {
          "data": {
            "text/plain": [
              "(array([[[[ -96.349915 ,  -87.531204 ,  -78.380394 ],\n",
              "          [ -96.60064  ,  -88.03265  ,  -78.380394 ],\n",
              "          [ -96.85136  ,  -88.53409  ,  -78.380394 ],\n",
              "          ...,\n",
              "          [-102.192154 , -104.17647  ,  -99.21568  ],\n",
              "          [-102.32611  , -104.310425 ,  -99.34964  ],\n",
              "          [-103.18431  , -105.168625 , -100.20784  ]],\n",
              " \n",
              "         [[ -96.23921  ,  -87.30981  ,  -78.380394 ],\n",
              "          [ -96.23921  ,  -87.30981  ,  -78.380394 ],\n",
              "          [ -96.23921  ,  -87.30981  ,  -78.380394 ],\n",
              "          ...,\n",
              "          [-102.192154 , -104.17647  ,  -99.21568  ],\n",
              "          [-102.58097  , -104.56528  ,  -99.6045   ],\n",
              "          [-103.18431  , -105.168625 , -100.20784  ]],\n",
              " \n",
              "         [[ -95.333694 ,  -86.40428  ,  -79.28592  ],\n",
              "          [ -95.58441  ,  -86.655    ,  -79.035194 ],\n",
              "          [ -95.83514  ,  -86.90572  ,  -78.78447  ],\n",
              "          ...,\n",
              "          [-102.192154 , -104.17647  ,  -99.21568  ],\n",
              "          [-102.83583  , -104.820145 ,  -99.85936  ],\n",
              "          [-103.18431  , -105.168625 , -100.20784  ]],\n",
              " \n",
              "         ...,\n",
              " \n",
              "         [[-230.18039  , -231.02899  , -236.42046  ],\n",
              "          [-221.87099  , -222.86314  , -227.82393  ],\n",
              "          [-218.63225  , -217.99783  , -222.95862  ],\n",
              "          ...,\n",
              "          [-107.86868  ,  -94.97064  ,  -79.09613  ],\n",
              "          [-107.61795  ,  -94.71992  ,  -78.845406 ],\n",
              "          [-107.36723  ,  -94.46919  ,  -78.59469  ]],\n",
              " \n",
              "         [[-229.06738  , -230.05954  , -235.02032  ],\n",
              "          [-220.07152  , -220.87637  , -225.83716  ],\n",
              "          [-217.66652  , -216.82637  , -221.71115  ],\n",
              "          ...,\n",
              "          [-108.145096 ,  -95.247055 ,  -79.37255  ],\n",
              "          [-108.145096 ,  -95.247055 ,  -79.37255  ],\n",
              "          [-108.145096 ,  -95.247055 ,  -79.37255  ]],\n",
              " \n",
              "         [[-226.5187   , -227.51086  , -232.47165  ],\n",
              "          [-219.56178  , -219.8569   , -224.81769  ],\n",
              "          [-215.6276   , -215.29716  , -219.92708  ],\n",
              "          ...,\n",
              "          [-109.6247   ,  -96.72666  ,  -80.85216  ],\n",
              "          [-109.12327  ,  -96.22523  ,  -80.350716 ],\n",
              "          [-108.62182  ,  -95.723785 ,  -79.84927  ]]],\n",
              " \n",
              " \n",
              "        [[[-138.5138   , -106.54894  ,  -75.79208  ],\n",
              "          [-138.18434  , -107.702    ,  -76.121544 ],\n",
              "          [-139.38467  , -109.13725  ,  -75.24302  ],\n",
              "          ...,\n",
              "          [-168.47282  , -148.91026  , -134.50229  ],\n",
              "          [-165.10194  , -143.51683  , -130.45723  ],\n",
              "          [-158.76407  , -136.93661  , -124.03858  ]],\n",
              " \n",
              "         [[-138.78262  , -105.92211  ,  -75.52326  ],\n",
              "          [-138.14276  , -106.919975 ,  -76.16311  ],\n",
              "          [-138.55536  , -108.44406  ,  -75.75052  ],\n",
              "          ...,\n",
              "          [-165.14919  , -143.5924   , -130.51392  ],\n",
              "          [-158.85854  , -137.03108  , -124.13306  ],\n",
              "          [-147.59528  , -125.76782  , -112.86978  ]],\n",
              " \n",
              "         [[-138.27513  , -104.907104 ,  -76.03076  ],\n",
              "          [-138.65027  , -106.412476 ,  -75.65561  ],\n",
              "          [-138.04785  , -107.429054 ,  -76.25802  ],\n",
              "          ...,\n",
              "          [-158.953    , -137.12555  , -124.22752  ],\n",
              "          [-147.85034  , -126.02288  , -113.12485  ],\n",
              "          [-129.64754  , -107.8201   ,  -94.92206  ]],\n",
              " \n",
              "         ...,\n",
              " \n",
              "         [[ -67.67846  ,  -59.016598 ,  -49.95341  ],\n",
              "          [ -73.74606  ,  -66.43254  ,  -56.695183 ],\n",
              "          [ -78.83372  ,  -71.88862  ,  -61.96705  ],\n",
              "          ...,\n",
              "          [ -58.861492 ,  -44.9713   ,  -34.05757  ],\n",
              "          [ -66.76825  ,  -52.878048 ,  -41.96432  ],\n",
              "          [ -64.26296  ,  -47.969997 ,  -39.459045 ]],\n",
              " \n",
              "         [[ -73.66104  ,  -66.328636 ,  -56.600716 ],\n",
              "          [ -78.76759  ,  -71.822495 ,  -61.90092  ],\n",
              "          [ -82.9992   ,  -76.54173  ,  -66.45762  ],\n",
              "          ...,\n",
              "          [ -62.78053  ,  -49.83328  ,  -37.50513  ],\n",
              "          [ -62.200733 ,  -48.31054  ,  -37.396812 ],\n",
              "          [ -66.29297  ,  -51.522503 ,  -41.489048 ]],\n",
              " \n",
              "         [[ -78.70146  ,  -71.75636  ,  -61.834793 ],\n",
              "          [ -82.96141  ,  -76.4756   ,  -66.40094  ],\n",
              "          [ -85.65812  ,  -81.19485  ,  -70.44601  ],\n",
              "          ...,\n",
              "          [ -67.34804  ,  -55.415794 ,  -41.56514  ],\n",
              "          [ -59.441288 ,  -45.751987 ,  -34.53692  ],\n",
              "          [ -65.53997  ,  -51.649776 ,  -40.73605  ]]],\n",
              " \n",
              " \n",
              "        [[[-138.45164  , -119.60066  ,  -87.59598  ],\n",
              "          [-138.86841  , -120.017426 ,  -87.943275 ],\n",
              "          [-139.28516  , -120.43419  ,  -88.29058  ],\n",
              "          ...,\n",
              "          [ -84.18351  ,  -79.84965  ,  -64.51483  ],\n",
              "          [ -86.55992  ,  -84.103294 ,  -70.45626  ],\n",
              "          [ -88.91876  ,  -84.98631  ,  -72.68388  ]],\n",
              " \n",
              "         [[-138.54048  , -119.68951  ,  -89.563324 ],\n",
              "          [-138.40157  , -119.55058  ,  -89.28548  ],\n",
              "          [-138.26263  , -119.41167  ,  -89.00763  ],\n",
              "          ...,\n",
              "          [ -78.257    ,  -71.96106  ,  -55.338787 ],\n",
              "          [ -81.37497  ,  -77.040405 ,  -61.249462 ],\n",
              "          [ -88.81962  ,  -82.815735 ,  -68.43991  ]],\n",
              " \n",
              "         [[-153.96982  , -134.23248  , -108.89951  ],\n",
              "          [-152.78899  , -133.12112  , -107.440834 ],\n",
              "          [-151.60815  , -132.00977  , -105.98216  ],\n",
              "          ...,\n",
              "          [ -77.01264  ,  -69.64962  ,  -51.224068 ],\n",
              "          [ -83.78714  ,  -76.49358  ,  -58.286293 ],\n",
              "          [ -94.70754  ,  -87.20444  ,  -71.05093  ]],\n",
              " \n",
              "         ...,\n",
              " \n",
              "         [[ -59.52941  ,  -41.67059  ,  -27.780392 ],\n",
              "          [ -59.52941  ,  -41.67059  ,  -27.780392 ],\n",
              "          [ -59.52941  ,  -41.67059  ,  -27.780392 ],\n",
              "          ...,\n",
              "          [-110.912865 , -102.97562  ,  -91.61798  ],\n",
              "          [-118.47031  , -110.53305  ,  -97.63501  ],\n",
              "          [-118.671616 , -111.07073  ,  -96.49085  ]],\n",
              " \n",
              "         [[ -59.52941  ,  -41.67059  ,  -27.780392 ],\n",
              "          [ -59.52941  ,  -41.67059  ,  -27.780392 ],\n",
              "          [ -59.52941  ,  -41.67059  ,  -27.780392 ],\n",
              "          ...,\n",
              "          [-111.504684 , -103.56743  ,  -92.06185  ],\n",
              "          [-118.8402   , -110.90295  ,  -98.004906 ],\n",
              "          [-117.93184  , -110.40493  ,  -95.45516  ]],\n",
              " \n",
              "         [[ -59.52941  ,  -41.67059  ,  -27.780392 ],\n",
              "          [ -59.52941  ,  -41.67059  ,  -27.780392 ],\n",
              "          [ -59.52941  ,  -41.67059  ,  -27.780392 ],\n",
              "          ...,\n",
              "          [-112.09651  , -104.159256 ,  -92.505714 ],\n",
              "          [-119.21008  , -111.272835 ,  -98.374794 ],\n",
              "          [-117.192055 , -109.73913  ,  -94.419464 ]]],\n",
              " \n",
              " \n",
              "        ...,\n",
              " \n",
              " \n",
              "        [[[-189.50197  , -232.1647   , -238.11765  ],\n",
              "          [-189.50197  , -232.1647   , -238.11765  ],\n",
              "          [-189.50197  , -232.1647   , -238.11765  ],\n",
              "          ...,\n",
              "          [-241.09412  , -249.03137  , -251.01569  ],\n",
              "          [-241.09412  , -249.03137  , -251.01569  ],\n",
              "          [-241.09412  , -249.03137  , -251.01569  ]],\n",
              " \n",
              "         [[-189.50197  , -232.1647   , -238.11765  ],\n",
              "          [-189.50197  , -232.1647   , -238.11765  ],\n",
              "          [-189.50197  , -232.1647   , -238.11765  ],\n",
              "          ...,\n",
              "          [-241.09412  , -249.03137  , -251.01569  ],\n",
              "          [-241.09412  , -249.03137  , -251.01569  ],\n",
              "          [-241.09412  , -249.03137  , -251.01569  ]],\n",
              " \n",
              "         [[-189.50197  , -232.1647   , -238.11765  ],\n",
              "          [-189.50197  , -232.1647   , -238.11765  ],\n",
              "          [-189.50197  , -232.1647   , -238.11765  ],\n",
              "          ...,\n",
              "          [-241.09412  , -249.03137  , -251.01569  ],\n",
              "          [-241.09412  , -249.03137  , -251.01569  ],\n",
              "          [-241.09412  , -249.03137  , -251.01569  ]],\n",
              " \n",
              "         ...,\n",
              " \n",
              "         [[-157.0652   , -225.90735  , -234.75784  ],\n",
              "          [-157.1988   , -225.77374  , -235.02504  ],\n",
              "          [-157.33241  , -225.64014  , -235.29227  ],\n",
              "          ...,\n",
              "          [-168.66667  , -228.19608  , -236.13333  ],\n",
              "          [-168.66667  , -228.19608  , -236.13333  ],\n",
              "          [-168.66667  , -228.19608  , -236.13333  ]],\n",
              " \n",
              "         [[-155.32933  , -227.64322  , -232.00185  ],\n",
              "          [-155.59654  , -227.376    , -232.40266  ],\n",
              "          [-155.86375  , -227.10878  , -232.80348  ],\n",
              "          ...,\n",
              "          [-168.66667  , -228.19608  , -236.13333  ],\n",
              "          [-168.66667  , -228.19608  , -236.13333  ],\n",
              "          [-168.66667  , -228.19608  , -236.13333  ]],\n",
              " \n",
              "         [[-157.00758  , -228.19608  , -230.42883  ],\n",
              "          [-156.60677  , -228.19608  , -230.56245  ],\n",
              "          [-156.20595  , -228.19608  , -230.69606  ],\n",
              "          ...,\n",
              "          [-168.66667  , -228.19608  , -236.13333  ],\n",
              "          [-168.66667  , -228.19608  , -236.13333  ],\n",
              "          [-168.66667  , -228.19608  , -236.13333  ]]],\n",
              " \n",
              " \n",
              "        [[[-105.903336 , -129.7151   ,  -80.107254 ],\n",
              "          [-100.779106 , -124.590866 ,  -74.983025 ],\n",
              "          [-104.00198  , -129.3314   ,  -81.24123  ],\n",
              "          ...,\n",
              "          [ -54.271816 ,  -82.05221  ,  -24.507114 ],\n",
              "          [ -53.03344  ,  -80.81383  ,  -23.268732 ],\n",
              "          [ -51.79506  ,  -79.575455 ,  -22.030354 ]],\n",
              " \n",
              "         [[-106.16078  , -129.97255  ,  -79.512054 ],\n",
              "          [-103.59449  , -127.40626  ,  -77.798416 ],\n",
              "          [-101.65583  , -126.04679  ,  -77.01814  ],\n",
              "          ...,\n",
              "          [ -51.74505  ,  -79.449    ,  -22.13323  ],\n",
              "          [ -52.570633 ,  -79.861786 ,  -23.784405 ],\n",
              "          [ -53.39622  ,  -80.27458  ,  -25.435577 ]],\n",
              " \n",
              "         [[-106.16078  , -129.97255  ,  -78.5736   ],\n",
              "          [-106.16078  , -129.97255  ,  -80.28168  ],\n",
              "          [-101.28565  , -125.09741  ,  -75.48957  ],\n",
              "          ...,\n",
              "          [ -53.630424 ,  -80.41866  ,  -25.850033 ],\n",
              "          [ -54.043217 ,  -80.83145  ,  -26.262825 ],\n",
              "          [ -54.456013 ,  -81.24424  ,  -26.67562  ]],\n",
              " \n",
              "         ...,\n",
              " \n",
              "         [[ -49.748077 ,  -76.53631  ,  -33.873566 ],\n",
              "          [ -50.160866 ,  -76.949104 ,  -34.286358 ],\n",
              "          [ -50.57366  ,  -77.3619   ,  -34.69915  ],\n",
              "          ...,\n",
              "          [ -17.106798 ,  -41.910717 ,   -3.2166007],\n",
              "          [ -15.638848 ,  -40.44277  ,   -1.7486523],\n",
              "          [ -16.309727 ,  -39.686275 ,   -1.4679482]],\n",
              " \n",
              "         [[ -49.775814 ,  -76.32857  ,  -33.783566 ],\n",
              "          [ -46.88626  ,  -72.61343  ,  -30.481216 ],\n",
              "          [ -43.996708 ,  -68.89829  ,  -27.17887  ],\n",
              "          ...,\n",
              "          [ -17.576029 ,  -42.37995  ,   -3.6858323],\n",
              "          [ -16.57731  ,  -41.381233 ,   -2.6871157],\n",
              "          [ -14.902032 ,  -39.686275 ,   -0.9987166]],\n",
              " \n",
              "         [[ -43.4644   ,  -68.268326 ,  -26.597736 ],\n",
              "          [ -42.638817 ,  -67.44274  ,  -25.77215  ],\n",
              "          [ -41.81323  ,  -66.61715  ,  -24.946562 ],\n",
              "          ...,\n",
              "          [ -17.858824 ,  -42.662746 ,   -3.9686275],\n",
              "          [ -17.191221 ,  -41.99514  ,   -3.3010247],\n",
              "          [ -15.807697 ,  -40.611618 ,   -1.9175007]]],\n",
              " \n",
              " \n",
              "        [[[-108.83709  , -150.50768  ,  -88.0018   ],\n",
              "          [-109.0259   , -150.69649  ,  -88.190605 ],\n",
              "          [-109.214714 , -150.80785  ,  -88.53434  ],\n",
              "          ...,\n",
              "          [-114.60389  , -125.51762  ,  -95.75291  ],\n",
              "          [-114.981514 , -125.89524  ,  -96.13053  ],\n",
              "          [-115.090195 , -125.869446 ,  -96.508156 ]],\n",
              " \n",
              "         [[-109.6448   , -150.80785  ,  -89.82461  ],\n",
              "          [-109.83362  , -150.80785  ,  -90.391045 ],\n",
              "          [-110.02243  , -150.80785  ,  -90.95748  ],\n",
              "          ...,\n",
              "          [-115.56928  , -125.91844  ,  -97.84742  ],\n",
              "          [-115.090195 , -125.25055  ,  -97.745964 ],\n",
              "          [-115.090195 , -125.06173  ,  -98.12359  ]],\n",
              " \n",
              "         [[-109.806305 , -150.48473  ,  -90.95532  ],\n",
              "          [-109.61749  , -150.29591  ,  -90.76651  ],\n",
              "          [-109.42867  , -150.10712  ,  -90.5777   ],\n",
              "          ...,\n",
              "          [-116.4536   , -126.37516  ,  -99.58693  ],\n",
              "          [-115.659134 , -125.5807   ,  -98.792465 ],\n",
              "          [-115.847946 , -125.769516 ,  -98.98128  ]],\n",
              " \n",
              "         ...,\n",
              " \n",
              "         [[-132.94902  , -136.91765  , -114.09804  ],\n",
              "          [-132.94902  , -136.91765  , -114.09804  ],\n",
              "          [-132.94902  , -136.91765  , -114.09804  ],\n",
              "          ...,\n",
              "          [-114.286224 , -146.03525  ,  -97.419556 ],\n",
              "          [-117.74242  , -147.66925  ,  -96.320274 ],\n",
              "          [-118.09273  , -147.85744  ,  -96.265274 ]],\n",
              " \n",
              "         [[-133.37367  , -136.91765  , -114.94734  ],\n",
              "          [-133.56248  , -136.91765  , -115.32497  ],\n",
              "          [-133.7513   , -136.91765  , -115.7026   ],\n",
              "          ...,\n",
              "          [-114.427574 , -146.17659  ,  -97.560905 ],\n",
              "          [-117.17705  , -147.38657  ,  -96.46162  ],\n",
              "          [-118.066666 , -147.83138  ,  -96.23921  ]],\n",
              " \n",
              "         [[-133.22054  , -136.197    , -115.36172  ],\n",
              "          [-132.65411  , -135.63058  , -114.79528  ],\n",
              "          [-132.08766  , -135.06413  , -114.22884  ],\n",
              "          ...,\n",
              "          [-114.56891  , -146.31793  ,  -97.70225  ],\n",
              "          [-116.61169  , -147.10388  ,  -96.60297  ],\n",
              "          [-118.066666 , -147.83138  ,  -96.23921  ]]]], dtype=float32),\n",
              " array([[0., 0., 0., ..., 0., 0., 0.],\n",
              "        [0., 1., 0., ..., 0., 0., 0.],\n",
              "        [0., 0., 0., ..., 0., 0., 0.],\n",
              "        ...,\n",
              "        [0., 0., 0., ..., 0., 0., 0.],\n",
              "        [0., 0., 0., ..., 0., 0., 0.],\n",
              "        [0., 0., 0., ..., 0., 0., 0.]], dtype=float32))"
            ]
          },
          "execution_count": 10,
          "metadata": {},
          "output_type": "execute_result"
        }
      ],
      "source": [
        "train_generator[0]"
      ]
    },
    {
      "cell_type": "markdown",
      "metadata": {
        "id": "1PwGt4yRWphE"
      },
      "source": [
        "# Building and Training MobileNet Model"
      ]
    },
    {
      "cell_type": "code",
      "execution_count": null,
      "metadata": {
        "id": "ZqxfOoIJYS45"
      },
      "outputs": [],
      "source": [
        "import math\n",
        "\n",
        "# Calculates number of mini-batches per epoch\n",
        "n_steps = math.ceil(84635 / 32.0)\n",
        "n_steps"
      ]
    },
    {
      "cell_type": "markdown",
      "metadata": {
        "id": "02h-amADpUSl"
      },
      "source": [
        "### Tuning Hyperparameters for Frozen MobileNet Model"
      ]
    },
    {
      "cell_type": "code",
      "execution_count": null,
      "metadata": {
        "id": "TEF_oEMDm8j-"
      },
      "outputs": [],
      "source": [
        "def build_frozen_model(hp):\n",
        "  # Sets up the value ranges for the hyperparameters\n",
        "  learning_rate = hp.Float(\"learning_rate\", min_value=1e-4, max_value=1e-1, sampling=\"log\")\n",
        "  weight_decay = hp.Float(\"weight_decay\", min_value=1e-4, max_value=1e-2, sampling=\"log\")\n",
        "  optimizer = hp.Choice(\"optimizer\", values=[\"nesterov\", \"adamw\"])\n",
        "  if(optimizer == \"nesterov\"):\n",
        "    optimizer = tf.keras.optimizers.SGD(learning_rate=learning_rate, momentum=0.9, nesterov=True)\n",
        "  elif(optimizer == \"adamw\"):\n",
        "    optimizer = tf.keras.optimizers.AdamW(learning_rate=learning_rate, weight_decay=weight_decay)\n",
        "\n",
        "  # Constructs MobileNet model\n",
        "  base_model = tf.keras.applications.MobileNet(weights=\"imagenet\", include_top=False, input_shape=(224, 224, 3))\n",
        "  global_avg = tf.keras.layers.GlobalAveragePooling2D()(base_model.output)\n",
        "  output = tf.keras.layers.Dense(525, activation=\"softmax\")(global_avg)\n",
        "  model = tf.keras.Model(inputs=base_model.inputs, outputs=output)\n",
        "\n",
        "  # Freezes hidden layers of MobileNet\n",
        "  for layer in base_model.layers:\n",
        "    layer.trainable = False\n",
        "\n",
        "  # Compiles the MobileNet with the selected hyperparameters\n",
        "  model.compile(\n",
        "      loss=\"categorical_crossentropy\",\n",
        "      optimizer=tf.keras.optimizers.SGD(),\n",
        "      metrics=[\"accuracy\"]\n",
        "  )\n",
        "  return model"
      ]
    },
    {
      "cell_type": "code",
      "execution_count": null,
      "metadata": {
        "colab": {
          "base_uri": "https://localhost:8080/"
        },
        "id": "B4LcmNwnNyOd",
        "outputId": "eb4718c0-d3a7-47d7-a992-4bb99bd1b9ab"
      },
      "outputs": [
        {
          "name": "stdout",
          "output_type": "stream",
          "text": [
            "Trial 2 Complete [00h 54m 47s]\n",
            "val_accuracy: 0.1120000034570694\n",
            "\n",
            "Best val_accuracy So Far: 0.11809524148702621\n",
            "Total elapsed time: 01h 48m 55s\n",
            "\n",
            "Search: Running Trial #3\n",
            "\n",
            "Value             |Best Value So Far |Hyperparameter\n",
            "0.0044104         |0.0082848         |learning_rate\n",
            "0.00013607        |0.00011943        |weight_decay\n",
            "nesterov          |nesterov          |optimizer\n",
            "\n",
            "Epoch 1/3\n",
            " 404/2645 [===>..........................] - ETA: 15:00 - loss: 6.4301 - accuracy: 0.0032"
          ]
        }
      ],
      "source": [
        "random_search_tuner_frozen = kt.RandomSearch(\n",
        "    build_frozen_model,\n",
        "    objective=\"val_accuracy\",\n",
        "    max_trials=3,\n",
        "    overwrite=True,\n",
        "    directory=\"bird_clf_frozen\",\n",
        "    project_name=\"rnd_search_frozen\",\n",
        "    seed=42\n",
        ")\n",
        "\n",
        "random_search_tuner_frozen.search(\n",
        "    train_generator,\n",
        "    steps_per_epoch=n_steps,\n",
        "    validation_data=valid_generator,\n",
        "    epochs=3\n",
        ")"
      ]
    },
    {
      "cell_type": "markdown",
      "metadata": {
        "id": "-x9yOexYnzpa"
      },
      "source": [
        "### Constructing and Training the Frozen MobileNet Model with Tuned Hyperparameters"
      ]
    },
    {
      "cell_type": "code",
      "execution_count": null,
      "metadata": {
        "colab": {
          "base_uri": "https://localhost:8080/"
        },
        "id": "ZdxipRDBZCSr",
        "outputId": "702231a3-9fe6-419d-adf0-d88e8a90bce5"
      },
      "outputs": [
        {
          "name": "stdout",
          "output_type": "stream",
          "text": [
            "Downloading data from https://storage.googleapis.com/tensorflow/keras-applications/mobilenet/mobilenet_1_0_224_tf_no_top.h5\n",
            "\u001b[1m17225924/17225924\u001b[0m \u001b[32m━━━━━━━━━━━━━━━━━━━━\u001b[0m\u001b[37m\u001b[0m \u001b[1m0s\u001b[0m 0us/step\n",
            "Epoch 1/5\n"
          ]
        },
        {
          "name": "stderr",
          "output_type": "stream",
          "text": [
            "/usr/local/lib/python3.10/dist-packages/keras/src/trainers/data_adapters/py_dataset_adapter.py:121: UserWarning: Your `PyDataset` class should call `super().__init__(**kwargs)` in its constructor. `**kwargs` can include `workers`, `use_multiprocessing`, `max_queue_size`. Do not pass these arguments to `fit()`, as they will be ignored.\n",
            "  self._warn_if_super_not_called()\n"
          ]
        },
        {
          "name": "stdout",
          "output_type": "stream",
          "text": [
            "\u001b[1m2645/2645\u001b[0m \u001b[32m━━━━━━━━━━━━━━━━━━━━\u001b[0m\u001b[37m\u001b[0m \u001b[1m1053s\u001b[0m 394ms/step - accuracy: 0.0317 - loss: 5.9379 - val_accuracy: 0.1451 - val_loss: 4.6159\n",
            "Epoch 2/5\n"
          ]
        },
        {
          "name": "stderr",
          "output_type": "stream",
          "text": [
            "/usr/lib/python3.10/contextlib.py:153: UserWarning: Your input ran out of data; interrupting training. Make sure that your dataset or generator can generate at least `steps_per_epoch * epochs` batches. You may need to use the `.repeat()` function when building your dataset.\n",
            "  self.gen.throw(typ, value, traceback)\n"
          ]
        },
        {
          "name": "stdout",
          "output_type": "stream",
          "text": [
            "\r\u001b[1m2645/2645\u001b[0m \u001b[32m━━━━━━━━━━━━━━━━━━━━\u001b[0m\u001b[37m\u001b[0m \u001b[1m4s\u001b[0m 1ms/step - accuracy: 0.0000e+00 - loss: 0.0000e+00 - val_accuracy: 0.1451 - val_loss: 4.6159\n",
            "Epoch 3/5\n",
            "\u001b[1m2645/2645\u001b[0m \u001b[32m━━━━━━━━━━━━━━━━━━━━\u001b[0m\u001b[37m\u001b[0m \u001b[1m1080s\u001b[0m 389ms/step - accuracy: 0.1147 - loss: 4.8249 - val_accuracy: 0.1962 - val_loss: 4.1823\n",
            "Epoch 4/5\n",
            "\u001b[1m2645/2645\u001b[0m \u001b[32m━━━━━━━━━━━━━━━━━━━━\u001b[0m\u001b[37m\u001b[0m \u001b[1m4s\u001b[0m 2ms/step - accuracy: 0.0000e+00 - loss: 0.0000e+00 - val_accuracy: 0.1962 - val_loss: 4.1823\n",
            "Epoch 5/5\n",
            "\u001b[1m2645/2645\u001b[0m \u001b[32m━━━━━━━━━━━━━━━━━━━━\u001b[0m\u001b[37m\u001b[0m \u001b[1m1032s\u001b[0m 389ms/step - accuracy: 0.1538 - loss: 4.4796 - val_accuracy: 0.2274 - val_loss: 3.9270\n"
          ]
        },
        {
          "data": {
            "text/plain": [
              "<keras.src.callbacks.history.History at 0x7e80bd34ee90>"
            ]
          },
          "execution_count": 13,
          "metadata": {},
          "output_type": "execute_result"
        }
      ],
      "source": [
        "base_model = tf.keras.applications.MobileNet(weights=\"imagenet\", include_top=False, input_shape=(224, 224, 3))\n",
        "global_avg = tf.keras.layers.GlobalAveragePooling2D()(base_model.output)\n",
        "output = tf.keras.layers.Dense(525, activation=\"softmax\")(global_avg)\n",
        "frozen_model = tf.keras.Model(inputs=base_model.inputs, outputs=output)\n",
        "\n",
        "for layer in base_model.layers:\n",
        "  layer.trainable = False\n",
        "\n",
        "optimizer = tf.keras.optimizers.SGD(learning_rate=0.0082848, momentum=0.9, nesterov=True)\n",
        "frozen_model.compile(\n",
        "    loss=\"categorical_crossentropy\",\n",
        "    optimizer=optimizer,\n",
        "    metrics=[\"accuracy\"]\n",
        ")\n",
        "\n",
        "frozen_model.fit(\n",
        "    train_generator,\n",
        "    steps_per_epoch=n_steps,\n",
        "    validation_data=valid_generator,\n",
        "    epochs=5\n",
        ")"
      ]
    },
    {
      "cell_type": "markdown",
      "metadata": {
        "id": "ks0_k2FL_vO3"
      },
      "source": [
        "### Saving the Tuned Frozen Model for later Tuning"
      ]
    },
    {
      "cell_type": "code",
      "execution_count": null,
      "metadata": {
        "id": "7_QrhtUY-2K4"
      },
      "outputs": [],
      "source": [
        "frozen_model.save('/content/drive/MyDrive/frozen_trained_model.keras')"
      ]
    },
    {
      "cell_type": "code",
      "execution_count": null,
      "metadata": {
        "id": "xKH9_KRq_co8"
      },
      "outputs": [],
      "source": [
        "model_frozen_check = tf.keras.models.load_model('/content/drive/MyDrive/frozen_trained_model.keras')"
      ]
    },
    {
      "cell_type": "code",
      "execution_count": null,
      "metadata": {
        "colab": {
          "base_uri": "https://localhost:8080/"
        },
        "id": "dE0-TBcww-dr",
        "outputId": "6dd4c6e9-276c-4986-dacf-7ac131674815"
      },
      "outputs": [
        {
          "data": {
            "text/plain": [
              "[<InputLayer name=input_layer, built=True>,\n",
              " <Conv2D name=conv1, built=True>,\n",
              " <BatchNormalization name=conv1_bn, built=True>,\n",
              " <ReLU name=conv1_relu, built=True>,\n",
              " <DepthwiseConv2D name=conv_dw_1, built=True>,\n",
              " <BatchNormalization name=conv_dw_1_bn, built=True>,\n",
              " <ReLU name=conv_dw_1_relu, built=True>,\n",
              " <Conv2D name=conv_pw_1, built=True>,\n",
              " <BatchNormalization name=conv_pw_1_bn, built=True>,\n",
              " <ReLU name=conv_pw_1_relu, built=True>,\n",
              " <ZeroPadding2D name=conv_pad_2, built=True>,\n",
              " <DepthwiseConv2D name=conv_dw_2, built=True>,\n",
              " <BatchNormalization name=conv_dw_2_bn, built=True>,\n",
              " <ReLU name=conv_dw_2_relu, built=True>,\n",
              " <Conv2D name=conv_pw_2, built=True>,\n",
              " <BatchNormalization name=conv_pw_2_bn, built=True>,\n",
              " <ReLU name=conv_pw_2_relu, built=True>,\n",
              " <DepthwiseConv2D name=conv_dw_3, built=True>,\n",
              " <BatchNormalization name=conv_dw_3_bn, built=True>,\n",
              " <ReLU name=conv_dw_3_relu, built=True>,\n",
              " <Conv2D name=conv_pw_3, built=True>,\n",
              " <BatchNormalization name=conv_pw_3_bn, built=True>,\n",
              " <ReLU name=conv_pw_3_relu, built=True>,\n",
              " <ZeroPadding2D name=conv_pad_4, built=True>,\n",
              " <DepthwiseConv2D name=conv_dw_4, built=True>,\n",
              " <BatchNormalization name=conv_dw_4_bn, built=True>,\n",
              " <ReLU name=conv_dw_4_relu, built=True>,\n",
              " <Conv2D name=conv_pw_4, built=True>,\n",
              " <BatchNormalization name=conv_pw_4_bn, built=True>,\n",
              " <ReLU name=conv_pw_4_relu, built=True>,\n",
              " <DepthwiseConv2D name=conv_dw_5, built=True>,\n",
              " <BatchNormalization name=conv_dw_5_bn, built=True>,\n",
              " <ReLU name=conv_dw_5_relu, built=True>,\n",
              " <Conv2D name=conv_pw_5, built=True>,\n",
              " <BatchNormalization name=conv_pw_5_bn, built=True>,\n",
              " <ReLU name=conv_pw_5_relu, built=True>,\n",
              " <ZeroPadding2D name=conv_pad_6, built=True>,\n",
              " <DepthwiseConv2D name=conv_dw_6, built=True>,\n",
              " <BatchNormalization name=conv_dw_6_bn, built=True>,\n",
              " <ReLU name=conv_dw_6_relu, built=True>,\n",
              " <Conv2D name=conv_pw_6, built=True>,\n",
              " <BatchNormalization name=conv_pw_6_bn, built=True>,\n",
              " <ReLU name=conv_pw_6_relu, built=True>,\n",
              " <DepthwiseConv2D name=conv_dw_7, built=True>,\n",
              " <BatchNormalization name=conv_dw_7_bn, built=True>,\n",
              " <ReLU name=conv_dw_7_relu, built=True>,\n",
              " <Conv2D name=conv_pw_7, built=True>,\n",
              " <BatchNormalization name=conv_pw_7_bn, built=True>,\n",
              " <ReLU name=conv_pw_7_relu, built=True>,\n",
              " <DepthwiseConv2D name=conv_dw_8, built=True>,\n",
              " <BatchNormalization name=conv_dw_8_bn, built=True>,\n",
              " <ReLU name=conv_dw_8_relu, built=True>,\n",
              " <Conv2D name=conv_pw_8, built=True>,\n",
              " <BatchNormalization name=conv_pw_8_bn, built=True>,\n",
              " <ReLU name=conv_pw_8_relu, built=True>,\n",
              " <DepthwiseConv2D name=conv_dw_9, built=True>,\n",
              " <BatchNormalization name=conv_dw_9_bn, built=True>,\n",
              " <ReLU name=conv_dw_9_relu, built=True>,\n",
              " <Conv2D name=conv_pw_9, built=True>,\n",
              " <BatchNormalization name=conv_pw_9_bn, built=True>,\n",
              " <ReLU name=conv_pw_9_relu, built=True>,\n",
              " <DepthwiseConv2D name=conv_dw_10, built=True>,\n",
              " <BatchNormalization name=conv_dw_10_bn, built=True>,\n",
              " <ReLU name=conv_dw_10_relu, built=True>,\n",
              " <Conv2D name=conv_pw_10, built=True>,\n",
              " <BatchNormalization name=conv_pw_10_bn, built=True>,\n",
              " <ReLU name=conv_pw_10_relu, built=True>,\n",
              " <DepthwiseConv2D name=conv_dw_11, built=True>,\n",
              " <BatchNormalization name=conv_dw_11_bn, built=True>,\n",
              " <ReLU name=conv_dw_11_relu, built=True>,\n",
              " <Conv2D name=conv_pw_11, built=True>,\n",
              " <BatchNormalization name=conv_pw_11_bn, built=True>,\n",
              " <ReLU name=conv_pw_11_relu, built=True>,\n",
              " <ZeroPadding2D name=conv_pad_12, built=True>,\n",
              " <DepthwiseConv2D name=conv_dw_12, built=True>,\n",
              " <BatchNormalization name=conv_dw_12_bn, built=True>,\n",
              " <ReLU name=conv_dw_12_relu, built=True>,\n",
              " <Conv2D name=conv_pw_12, built=True>,\n",
              " <BatchNormalization name=conv_pw_12_bn, built=True>,\n",
              " <ReLU name=conv_pw_12_relu, built=True>,\n",
              " <DepthwiseConv2D name=conv_dw_13, built=True>,\n",
              " <BatchNormalization name=conv_dw_13_bn, built=True>,\n",
              " <ReLU name=conv_dw_13_relu, built=True>,\n",
              " <Conv2D name=conv_pw_13, built=True>,\n",
              " <BatchNormalization name=conv_pw_13_bn, built=True>,\n",
              " <ReLU name=conv_pw_13_relu, built=True>,\n",
              " <GlobalAveragePooling2D name=global_average_pooling2d, built=True>,\n",
              " <Dense name=dense, built=True>]"
            ]
          },
          "execution_count": 18,
          "metadata": {},
          "output_type": "execute_result"
        }
      ],
      "source": [
        "model_frozen_check.layers"
      ]
    },
    {
      "cell_type": "markdown",
      "metadata": {
        "id": "cAj7P9akBXX4"
      },
      "source": [
        "### Tuning Hyperparameters for Full MobileNet Model"
      ]
    },
    {
      "cell_type": "code",
      "execution_count": null,
      "metadata": {
        "id": "TEICgWuNBobg"
      },
      "outputs": [],
      "source": [
        "def build_full_model(hp):\n",
        "  # Sets up the value ranges for the hyperparameters\n",
        "  learning_rate = hp.Float(\"learning_rate\", min_value=1e-4, max_value=1e-1, sampling=\"log\")\n",
        "  weight_decay = hp.Float(\"weight_decay\", min_value=1e-4, max_value=1e-2, sampling=\"log\")\n",
        "  optimizer = hp.Choice(\"optimizer\", values=[\"nesterov\", \"adamw\"])\n",
        "  if(optimizer == \"nesterov\"):\n",
        "    optimizer = tf.keras.optimizers.SGD(learning_rate=learning_rate, momentum=0.9, nesterov=True)\n",
        "  elif(optimizer == \"adamw\"):\n",
        "    optimizer = tf.keras.optimizers.AdamW(learning_rate=learning_rate, weight_decay=weight_decay)\n",
        "\n",
        "  # Loads the Model with the Trained Output Layer\n",
        "  model = tf.keras.models.load_model('/content/drive/MyDrive/frozen_trained_model')\n",
        "\n",
        "  # Unfreezes the hidden layers of the MobileNet\n",
        "  for layer in model.layers:\n",
        "    layer.trainable = True\n",
        "\n",
        "  # Compiles the MobileNet with the selected hyperparameters\n",
        "  model.compile(\n",
        "      loss=\"categorical_crossentropy\",\n",
        "      optimizer=optimizer,\n",
        "      metrics=[\"accuracy\"]\n",
        "  )\n",
        "  return model"
      ]
    },
    {
      "cell_type": "code",
      "execution_count": null,
      "metadata": {
        "colab": {
          "base_uri": "https://localhost:8080/"
        },
        "id": "WnWy6BSkUAyg",
        "outputId": "8aea5fb8-fe33-4076-9b17-4ad304895e06"
      },
      "outputs": [
        {
          "name": "stdout",
          "output_type": "stream",
          "text": [
            "Trial 3 Complete [01h 02m 52s]\n",
            "val_accuracy: 0.9276190400123596\n",
            "\n",
            "Best val_accuracy So Far: 0.9276190400123596\n",
            "Total elapsed time: 03h 01m 42s\n"
          ]
        }
      ],
      "source": [
        "random_search_tuner_full = kt.RandomSearch(\n",
        "    build_full_model,\n",
        "    objective=\"val_accuracy\",\n",
        "    max_trials=3,\n",
        "    overwrite=True,\n",
        "    directory=\"bird_clf_full\",\n",
        "    project_name=\"rnd_search_full\",\n",
        "    seed=42\n",
        ")\n",
        "\n",
        "random_search_tuner_full.search(\n",
        "    train_generator,\n",
        "    steps_per_epoch=n_steps,\n",
        "    validation_data=valid_generator,\n",
        "    epochs=3\n",
        ")"
      ]
    },
    {
      "cell_type": "code",
      "execution_count": null,
      "metadata": {
        "colab": {
          "base_uri": "https://localhost:8080/"
        },
        "id": "FmlNR4WSUP2V",
        "outputId": "83ca424d-2a85-4c5a-dbeb-6a3e3507ce52"
      },
      "outputs": [
        {
          "name": "stdout",
          "output_type": "stream",
          "text": [
            "Results summary\n",
            "Results in bird_clf_full/rnd_search_full\n",
            "Showing 10 best trials\n",
            "Objective(name=\"val_accuracy\", direction=\"max\")\n",
            "\n",
            "Trial 2 summary\n",
            "Hyperparameters:\n",
            "learning_rate: 0.004410354359965501\n",
            "weight_decay: 0.00013607174450468629\n",
            "optimizer: nesterov\n",
            "Score: 0.9276190400123596\n",
            "\n",
            "Trial 1 summary\n",
            "Hyperparameters:\n",
            "learning_rate: 0.0006540730319855325\n",
            "weight_decay: 0.005977728042983696\n",
            "optimizer: nesterov\n",
            "Score: 0.9066666960716248\n",
            "\n",
            "Trial 0 summary\n",
            "Hyperparameters:\n",
            "learning_rate: 0.008284768840933801\n",
            "weight_decay: 0.00011942731780421024\n",
            "optimizer: nesterov\n",
            "Score: 0.8948571681976318\n"
          ]
        }
      ],
      "source": [
        "random_search_tuner_full.results_summary()"
      ]
    },
    {
      "cell_type": "code",
      "execution_count": null,
      "metadata": {
        "colab": {
          "base_uri": "https://localhost:8080/"
        },
        "id": "9rGHKzah_CuE",
        "outputId": "425426d9-bece-4581-c123-1a6cdfb6cb6c"
      },
      "outputs": [
        {
          "name": "stdout",
          "output_type": "stream",
          "text": [
            "Trial 2 summary\n",
            "Hyperparameters:\n",
            "learning_rate: 0.004410354359965501\n",
            "weight_decay: 0.00013607174450468629\n",
            "optimizer: nesterov\n",
            "Score: 0.9276190400123596\n"
          ]
        }
      ],
      "source": [
        "random_search_tuner_full.oracle.get_best_trials(num_trials=1)[0].summary()"
      ]
    },
    {
      "cell_type": "markdown",
      "metadata": {
        "id": "1e9wrefmACjm"
      },
      "source": [
        "### Training and Saving the Full Model with Tuned Hyperparams"
      ]
    },
    {
      "cell_type": "code",
      "execution_count": null,
      "metadata": {
        "colab": {
          "base_uri": "https://localhost:8080/"
        },
        "id": "GWpiftZPCD6l",
        "outputId": "4793d9ff-005c-4bc4-ba6e-6ad681198e54"
      },
      "outputs": [
        {
          "name": "stdout",
          "output_type": "stream",
          "text": [
            "Epoch 1/10\n"
          ]
        },
        {
          "name": "stderr",
          "output_type": "stream",
          "text": [
            "/usr/local/lib/python3.10/dist-packages/keras/src/trainers/data_adapters/py_dataset_adapter.py:121: UserWarning: Your `PyDataset` class should call `super().__init__(**kwargs)` in its constructor. `**kwargs` can include `workers`, `use_multiprocessing`, `max_queue_size`. Do not pass these arguments to `fit()`, as they will be ignored.\n",
            "  self._warn_if_super_not_called()\n"
          ]
        },
        {
          "name": "stdout",
          "output_type": "stream",
          "text": [
            "\u001b[1m2645/2645\u001b[0m \u001b[32m━━━━━━━━━━━━━━━━━━━━\u001b[0m\u001b[37m\u001b[0m \u001b[1m1179s\u001b[0m 434ms/step - accuracy: 0.5267 - loss: 2.1507 - val_accuracy: 0.8735 - val_loss: 0.4910\n",
            "Epoch 2/10\n"
          ]
        },
        {
          "name": "stderr",
          "output_type": "stream",
          "text": [
            "/usr/lib/python3.10/contextlib.py:153: UserWarning: Your input ran out of data; interrupting training. Make sure that your dataset or generator can generate at least `steps_per_epoch * epochs` batches. You may need to use the `.repeat()` function when building your dataset.\n",
            "  self.gen.throw(typ, value, traceback)\n"
          ]
        },
        {
          "name": "stdout",
          "output_type": "stream",
          "text": [
            "\u001b[1m2645/2645\u001b[0m \u001b[32m━━━━━━━━━━━━━━━━━━━━\u001b[0m\u001b[37m\u001b[0m \u001b[1m5s\u001b[0m 2ms/step - accuracy: 0.0000e+00 - loss: 0.0000e+00 - val_accuracy: 0.8735 - val_loss: 0.4910\n",
            "Epoch 3/10\n",
            "\u001b[1m2645/2645\u001b[0m \u001b[32m━━━━━━━━━━━━━━━━━━━━\u001b[0m\u001b[37m\u001b[0m \u001b[1m1114s\u001b[0m 420ms/step - accuracy: 0.8400 - loss: 0.6511 - val_accuracy: 0.9078 - val_loss: 0.3387\n",
            "Epoch 4/10\n",
            "\u001b[1m2645/2645\u001b[0m \u001b[32m━━━━━━━━━━━━━━━━━━━━\u001b[0m\u001b[37m\u001b[0m \u001b[1m4s\u001b[0m 1ms/step - accuracy: 0.0000e+00 - loss: 0.0000e+00 - val_accuracy: 0.9078 - val_loss: 0.3387\n",
            "Epoch 5/10\n",
            "\u001b[1m2645/2645\u001b[0m \u001b[32m━━━━━━━━━━━━━━━━━━━━\u001b[0m\u001b[37m\u001b[0m \u001b[1m1153s\u001b[0m 419ms/step - accuracy: 0.8854 - loss: 0.4525 - val_accuracy: 0.9303 - val_loss: 0.2466\n",
            "Epoch 6/10\n",
            "\u001b[1m2645/2645\u001b[0m \u001b[32m━━━━━━━━━━━━━━━━━━━━\u001b[0m\u001b[37m\u001b[0m \u001b[1m10s\u001b[0m 4ms/step - accuracy: 0.0000e+00 - loss: 0.0000e+00 - val_accuracy: 0.9303 - val_loss: 0.2466\n",
            "Epoch 7/10\n",
            "\u001b[1m2645/2645\u001b[0m \u001b[32m━━━━━━━━━━━━━━━━━━━━\u001b[0m\u001b[37m\u001b[0m \u001b[1m1105s\u001b[0m 417ms/step - accuracy: 0.9135 - loss: 0.3409 - val_accuracy: 0.9398 - val_loss: 0.2320\n",
            "Epoch 8/10\n",
            "\u001b[1m2645/2645\u001b[0m \u001b[32m━━━━━━━━━━━━━━━━━━━━\u001b[0m\u001b[37m\u001b[0m \u001b[1m5s\u001b[0m 2ms/step - accuracy: 0.0000e+00 - loss: 0.0000e+00 - val_accuracy: 0.9398 - val_loss: 0.2320\n",
            "Epoch 9/10\n",
            "\u001b[1m2645/2645\u001b[0m \u001b[32m━━━━━━━━━━━━━━━━━━━━\u001b[0m\u001b[37m\u001b[0m \u001b[1m1090s\u001b[0m 411ms/step - accuracy: 0.9296 - loss: 0.2809 - val_accuracy: 0.9371 - val_loss: 0.2237\n",
            "Epoch 10/10\n",
            "\u001b[1m2645/2645\u001b[0m \u001b[32m━━━━━━━━━━━━━━━━━━━━\u001b[0m\u001b[37m\u001b[0m \u001b[1m5s\u001b[0m 2ms/step - accuracy: 0.0000e+00 - loss: 0.0000e+00 - val_accuracy: 0.9371 - val_loss: 0.2237\n"
          ]
        },
        {
          "data": {
            "text/plain": [
              "<keras.src.callbacks.history.History at 0x78e73c50e6e0>"
            ]
          },
          "execution_count": 12,
          "metadata": {},
          "output_type": "execute_result"
        }
      ],
      "source": [
        "full_model = tf.keras.models.load_model('/content/drive/MyDrive/frozen_trained_model.keras')\n",
        "\n",
        "for layer in full_model.layers:\n",
        "  layer.trainable = True\n",
        "\n",
        "optimizer = tf.keras.optimizers.SGD(learning_rate=0.004410354359965501, momentum=0.9, nesterov=True)\n",
        "full_model.compile(\n",
        "      loss=\"categorical_crossentropy\",\n",
        "      optimizer=optimizer,\n",
        "      metrics=[\"accuracy\"]\n",
        "  )\n",
        "\n",
        "early_stopping_cb = tf.keras.callbacks.EarlyStopping(\n",
        "      monitor=\"val_loss\",\n",
        "      patience=3,\n",
        "      restore_best_weights=True\n",
        "    )\n",
        "\n",
        "full_model.fit(\n",
        "    train_generator,\n",
        "    steps_per_epoch=n_steps,\n",
        "    validation_data=valid_generator,\n",
        "    epochs=10,\n",
        "    callbacks=[early_stopping_cb]\n",
        ")"
      ]
    },
    {
      "cell_type": "code",
      "execution_count": null,
      "metadata": {
        "id": "y6i9zFIODT3v"
      },
      "outputs": [],
      "source": [
        "full_model.save('/content/drive/MyDrive/full_bird_clf_model.keras')"
      ]
    },
    {
      "cell_type": "markdown",
      "metadata": {
        "id": "L0Q4cT4Yu8rF"
      },
      "source": [
        "### Measuring the Full Model's Performance on the Test Set"
      ]
    },
    {
      "cell_type": "code",
      "execution_count": null,
      "metadata": {
        "colab": {
          "base_uri": "https://localhost:8080/"
        },
        "id": "-aB4E4i_8rEu",
        "outputId": "59d5e776-2eee-43e7-a32e-e27a2b0054cd"
      },
      "outputs": [
        {
          "name": "stderr",
          "output_type": "stream",
          "text": [
            "/usr/local/lib/python3.10/dist-packages/keras/src/trainers/data_adapters/py_dataset_adapter.py:121: UserWarning: Your `PyDataset` class should call `super().__init__(**kwargs)` in its constructor. `**kwargs` can include `workers`, `use_multiprocessing`, `max_queue_size`. Do not pass these arguments to `fit()`, as they will be ignored.\n",
            "  self._warn_if_super_not_called()\n"
          ]
        },
        {
          "name": "stdout",
          "output_type": "stream",
          "text": [
            "\u001b[1m83/83\u001b[0m \u001b[32m━━━━━━━━━━━━━━━━━━━━\u001b[0m\u001b[37m\u001b[0m \u001b[1m5s\u001b[0m 59ms/step - accuracy: 0.9612 - loss: 0.1286\n"
          ]
        },
        {
          "data": {
            "text/plain": [
              "[0.12876902520656586, 0.961904764175415]"
            ]
          },
          "execution_count": 15,
          "metadata": {},
          "output_type": "execute_result"
        }
      ],
      "source": [
        "full_model.evaluate(test_generator)"
      ]
    },
    {
      "cell_type": "markdown",
      "metadata": {
        "id": "ZnImnOmtv3yz"
      },
      "source": [
        "### Adding Supporting Preprocessing for Deployment"
      ]
    },
    {
      "cell_type": "code",
      "execution_count": null,
      "metadata": {
        "id": "eggYj6THJGTJ"
      },
      "outputs": [],
      "source": [
        "import tensorflow as tf\n",
        "\n",
        "def preprocess_jpg(jpg_filepath):\n",
        "  # Takes in a jpg filepath and a label and preprocesses it.\n",
        "  image_path = tf.io.read_file(jpg_filepath)\n",
        "  image_data = tf.io.decode_jpeg(image_path, channels=3)\n",
        "  image_data = tf.image.resize(image_data, [224, 224])\n",
        "  image_data = (image_data / 127.5) - 1\n",
        "  return image_data"
      ]
    },
    {
      "cell_type": "code",
      "execution_count": null,
      "metadata": {
        "id": "4Mb-BYtP9Y9x"
      },
      "outputs": [],
      "source": [
        "full_model_test = tf.keras.models.load_model('/content/drive/MyDrive/full_bird_clf_model.keras')"
      ]
    },
    {
      "cell_type": "code",
      "execution_count": null,
      "metadata": {
        "colab": {
          "base_uri": "https://localhost:8080/"
        },
        "id": "zSsKH46uKEdE",
        "outputId": "1627206b-7ebc-43f3-866e-986ee547b89a"
      },
      "outputs": [
        {
          "data": {
            "text/plain": [
              "<tf.Tensor: shape=(1, 224, 224, 3), dtype=float32, numpy=\n",
              "array([[[[ 0.85882354,  0.8745098 ,  0.7882353 ],\n",
              "         [ 0.8509804 ,  0.8666667 ,  0.78039217],\n",
              "         [ 0.85882354,  0.8745098 ,  0.7882353 ],\n",
              "         ...,\n",
              "         [-0.34117645, -0.4352941 , -0.54509807],\n",
              "         [-0.40392154, -0.4980392 , -0.62352943],\n",
              "         [-0.44313723, -0.5294118 , -0.67058825]],\n",
              "\n",
              "        [[ 0.85882354,  0.8745098 ,  0.7882353 ],\n",
              "         [ 0.8509804 ,  0.8666667 ,  0.78039217],\n",
              "         [ 0.85882354,  0.8745098 ,  0.7882353 ],\n",
              "         ...,\n",
              "         [-0.3960784 , -0.49019605, -0.6       ],\n",
              "         [-0.3960784 , -0.49019605, -0.6156863 ],\n",
              "         [-0.38039213, -0.47450978, -0.6       ]],\n",
              "\n",
              "        [[ 0.84313726,  0.85882354,  0.75686276],\n",
              "         [ 0.84313726,  0.85882354,  0.75686276],\n",
              "         [ 0.8509804 ,  0.8666667 ,  0.7647059 ],\n",
              "         ...,\n",
              "         [-0.38823527, -0.4823529 , -0.60784316],\n",
              "         [-0.35686272, -0.45098037, -0.56078434],\n",
              "         [-0.38823527, -0.4823529 , -0.5764706 ]],\n",
              "\n",
              "        ...,\n",
              "\n",
              "        [[-0.23921567,  0.06666672, -0.7882353 ],\n",
              "         [-0.15294117,  0.15294123, -0.6862745 ],\n",
              "         [-0.12156862,  0.15294123, -0.64705884],\n",
              "         ...,\n",
              "         [-0.69411767, -0.6862745 , -0.7254902 ],\n",
              "         [-0.6627451 , -0.6627451 , -0.6627451 ],\n",
              "         [-0.6627451 , -0.6627451 , -0.6627451 ]],\n",
              "\n",
              "        [[-0.18431371,  0.12156868, -0.7176471 ],\n",
              "         [-0.06666666,  0.23921573, -0.5921569 ],\n",
              "         [-0.16862744,  0.10588241, -0.6784314 ],\n",
              "         ...,\n",
              "         [-0.6862745 , -0.67058825, -0.70980394],\n",
              "         [-0.64705884, -0.6313726 , -0.6392157 ],\n",
              "         [-0.67058825, -0.654902  , -0.6627451 ]],\n",
              "\n",
              "        [[-0.18431371,  0.12156868, -0.7176471 ],\n",
              "         [-0.14509803,  0.16078436, -0.67058825],\n",
              "         [-0.09019607,  0.18431377, -0.6       ],\n",
              "         ...,\n",
              "         [-0.6784314 , -0.6627451 , -0.7019608 ],\n",
              "         [-0.654902  , -0.6392157 , -0.64705884],\n",
              "         [-0.6862745 , -0.67058825, -0.6784314 ]]]], dtype=float32)>"
            ]
          },
          "execution_count": 16,
          "metadata": {},
          "output_type": "execute_result"
        }
      ],
      "source": [
        "tf.expand_dims(preprocess_jpg(\"/content/train/ABBOTTS BABBLER/001.jpg\"), axis=0)"
      ]
    },
    {
      "cell_type": "code",
      "execution_count": null,
      "metadata": {
        "colab": {
          "base_uri": "https://localhost:8080/"
        },
        "id": "7C6Y2327JI-g",
        "outputId": "fe9f7621-aa79-4ec5-d73c-2c2d650616dc"
      },
      "outputs": [
        {
          "name": "stdout",
          "output_type": "stream",
          "text": [
            "\u001b[1m1/1\u001b[0m \u001b[32m━━━━━━━━━━━━━━━━━━━━\u001b[0m\u001b[37m\u001b[0m \u001b[1m1s\u001b[0m 732ms/step\n"
          ]
        },
        {
          "data": {
            "text/plain": [
              "(1, 525)"
            ]
          },
          "execution_count": 18,
          "metadata": {},
          "output_type": "execute_result"
        }
      ],
      "source": [
        "(full_model_test.predict(tf.expand_dims(preprocess_jpg(\"/content/train/ABBOTTS BABBLER/001.jpg\"), axis=0))).shape"
      ]
    },
    {
      "cell_type": "code",
      "execution_count": null,
      "metadata": {
        "id": "P6Z3wuJFJ3K_"
      },
      "outputs": [],
      "source": []
    }
  ],
  "metadata": {
    "colab": {
      "collapsed_sections": [
        "QVO07Roupo5I",
        "-r4zYzVbi4cd",
        "02h-amADpUSl",
        "-x9yOexYnzpa",
        "ks0_k2FL_vO3",
        "cAj7P9akBXX4"
      ],
      "provenance": [],
      "include_colab_link": true
    },
    "kernelspec": {
      "display_name": "Python 3",
      "name": "python3"
    },
    "language_info": {
      "name": "python"
    }
  },
  "nbformat": 4,
  "nbformat_minor": 0
}